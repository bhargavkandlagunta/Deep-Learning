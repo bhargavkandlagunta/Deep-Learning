{
  "nbformat": 4,
  "nbformat_minor": 0,
  "metadata": {
    "colab": {
      "name": "DL_HW3_Q1.ipynb",
      "version": "0.3.2",
      "provenance": [],
      "collapsed_sections": []
    },
    "kernelspec": {
      "name": "python3",
      "display_name": "Python 3"
    }
  },
  "cells": [
    {
      "metadata": {
        "id": "c24i10f7PyFY",
        "colab_type": "code",
        "colab": {}
      },
      "cell_type": "code",
      "source": [
        "import tensorflow as tf\n",
        "import numpy as np\n",
        "import matplotlib.pyplot as plt\n",
        "from tensorflow import keras\n",
        "from keras import Sequential\n",
        "from tensorflow.examples.tutorials.mnist import input_data\n",
        "from sklearn.manifold import TSNE\n",
        "from sklearn.decomposition import PCA\n",
        "import random\n",
        "import pandas as pd\n",
        "\n",
        "!pip install librosa\n",
        "import librosa"
      ],
      "execution_count": 0,
      "outputs": []
    },
    {
      "metadata": {
        "id": "Y-EG7-zwQGN5",
        "colab_type": "code",
        "colab": {}
      },
      "cell_type": "code",
      "source": [
        "\n",
        "mnist_data = input_data.read_data_sets('MNIST_data', one_hot=True)\n",
        "# mnist_train_x, mnist_test_x = mnist_train_x/255.0, mnist_test_x/255.0\n",
        "\n",
        "# print(type(mnist_data.train))"
      ],
      "execution_count": 0,
      "outputs": []
    },
    {
      "metadata": {
        "id": "Ymz_9I6EQIxG",
        "colab_type": "code",
        "colab": {}
      },
      "cell_type": "code",
      "source": [
        "# print(mnist_data.validation)\n",
        "n_train = mnist_data.train.num_examples # 55,000\n",
        "n_test = mnist_data.test.num_examples # 10,000"
      ],
      "execution_count": 0,
      "outputs": []
    },
    {
      "metadata": {
        "id": "b5TYQlj0QKq3",
        "colab_type": "code",
        "colab": {}
      },
      "cell_type": "code",
      "source": [
        "n_input = 784   # input layer (28x28 pixels)\n",
        "n_hidden1 = 1024 # 1st hidden layer\n",
        "n_hidden2 = 1024 # 2nd hidden layer\n",
        "n_hidden3 = 1024 # 3rd hidden layer\n",
        "n_hidden4 = 1024 # 4th hidden layer\n",
        "n_hidden5 = 1024 # 5th hidden layer\n",
        "n_output = 10   # output layer (0-9 digits)\n",
        "# Setting learning rate to 0.0001\n",
        "lr = 1e-4\n",
        "n_iterations = 1000\n",
        "batch_size = 512\n",
        "dropout = 0.5"
      ],
      "execution_count": 0,
      "outputs": []
    },
    {
      "metadata": {
        "id": "50O58bmSYrKZ",
        "colab_type": "code",
        "outputId": "47e669b8-1175-47cc-de74-2a890c6639b9",
        "colab": {
          "base_uri": "https://localhost:8080/",
          "height": 230
        }
      },
      "cell_type": "code",
      "source": [
        "X = tf.placeholder(\"float\", [None, n_input])\n",
        "Y = tf.placeholder(\"float\", [None, n_output])\n",
        "training = tf.placeholder_with_default(False, shape=(), name='training')\n",
        "keep_prob = tf.placeholder(tf.float32) \n",
        "\n",
        "weights = [ \n",
        "            tf.Variable(tf.random_normal([n_input, n_hidden1], stddev=np.sqrt(2/n_input))),\n",
        "            tf.Variable(tf.random_normal([n_hidden1, n_hidden2], stddev=np.sqrt(2/n_hidden1))),\n",
        "            tf.Variable(tf.random_normal([n_hidden2, n_hidden3], stddev=np.sqrt(2/n_hidden2))),\n",
        "            tf.Variable(tf.random_normal([n_hidden3, n_hidden4], stddev=np.sqrt(2/n_hidden3))),\n",
        "            tf.Variable(tf.random_normal([n_hidden4, n_hidden5], stddev=np.sqrt(2/n_hidden4))),\n",
        "            tf.Variable(tf.random_normal([n_hidden5, n_output], stddev=np.sqrt(2/n_hidden5))),\n",
        "          ]\n",
        "biases = [\n",
        "            tf.Variable(tf.constant(0.0, shape=[n_hidden1])),\n",
        "            tf.Variable(tf.constant(0.0, shape=[n_hidden2])),\n",
        "            tf.Variable(tf.constant(0.0, shape=[n_hidden3])),\n",
        "            tf.Variable(tf.constant(0.0, shape=[n_hidden4])),\n",
        "            tf.Variable(tf.constant(0.0, shape=[n_hidden5])),\n",
        "            tf.Variable(tf.constant(0.0, shape=[n_output]))\n",
        "         ]\n",
        "def layer_output(weights, biases, X):\n",
        "  layer = []\n",
        "  act_out = X\n",
        "  for i in range(0,5):\n",
        "    layer.append(tf.nn.relu(tf.add(tf.matmul(act_out, weights[i]), biases[i])))\n",
        "    act_out = layer[i]\n",
        "\n",
        "  output_layer = tf.matmul(layer[-1], weights[5]) + biases[5]\n",
        "  return output_layer\n",
        "\n",
        "output_layer = layer_output(weights, biases, X)\n",
        "cross_entropy = tf.reduce_mean(tf.nn.softmax_cross_entropy_with_logits(labels=Y, logits=output_layer))\n",
        "train_step = tf.train.AdamOptimizer(lr).minimize(cross_entropy)\n",
        "\n",
        "correct_pred = tf.equal(tf.argmax(output_layer, 1), tf.argmax(Y, 1))\n",
        "accuracy = tf.reduce_mean(tf.cast(correct_pred, tf.float32))"
      ],
      "execution_count": 0,
      "outputs": [
        {
          "output_type": "stream",
          "text": [
            "WARNING:tensorflow:From /usr/local/lib/python3.6/dist-packages/tensorflow/python/framework/op_def_library.py:263: colocate_with (from tensorflow.python.framework.ops) is deprecated and will be removed in a future version.\n",
            "Instructions for updating:\n",
            "Colocations handled automatically by placer.\n",
            "WARNING:tensorflow:From <ipython-input-5-0c837c4c6c1a>:35: softmax_cross_entropy_with_logits (from tensorflow.python.ops.nn_ops) is deprecated and will be removed in a future version.\n",
            "Instructions for updating:\n",
            "\n",
            "Future major versions of TensorFlow will allow gradients to flow\n",
            "into the labels input on backprop by default.\n",
            "\n",
            "See `tf.nn.softmax_cross_entropy_with_logits_v2`.\n",
            "\n"
          ],
          "name": "stdout"
        }
      ]
    },
    {
      "metadata": {
        "id": "u0CGB_9-QVbX",
        "colab_type": "code",
        "colab": {}
      },
      "cell_type": "code",
      "source": [
        "init = tf.global_variables_initializer()\n",
        "sess = tf.Session()\n",
        "sess.run(init)"
      ],
      "execution_count": 0,
      "outputs": []
    },
    {
      "metadata": {
        "id": "P6NLHrtzQWte",
        "colab_type": "code",
        "colab": {}
      },
      "cell_type": "code",
      "source": [
        "for i in range(n_iterations):\n",
        "    batch_x, batch_y = mnist_data.train.next_batch(batch_size)\n",
        "    sess.run(train_step, feed_dict={X: batch_x, Y: batch_y, keep_prob:dropout})\n",
        "\n",
        "    # print loss and accuracy (per minibatch)\n",
        "    if i%100==0:\n",
        "        minibatch_loss, minibatch_accuracy = sess.run([cross_entropy, accuracy], feed_dict={X: batch_x, Y: batch_y, keep_prob:1.0})\n",
        "        print(\"Iteration\", str(i), \"\\t| Loss =\", str(minibatch_loss), \"\\t| Accuracy =\", str(minibatch_accuracy))"
      ],
      "execution_count": 0,
      "outputs": []
    },
    {
      "metadata": {
        "id": "F4Y6Cif4Qa2D",
        "colab_type": "code",
        "outputId": "19a53ee3-6ab1-4da4-a1e3-00b5b8fbe3cd",
        "colab": {
          "base_uri": "https://localhost:8080/",
          "height": 52
        }
      },
      "cell_type": "code",
      "source": [
        "test_accuracy = sess.run(accuracy, feed_dict={X: mnist_data.test.images, Y: mnist_data.test.labels, keep_prob:1.0})\n",
        "print(\"\\nAccuracy on test set:\", test_accuracy)"
      ],
      "execution_count": 0,
      "outputs": [
        {
          "output_type": "stream",
          "text": [
            "\n",
            "Accuracy on test set: 0.9812\n"
          ],
          "name": "stdout"
        }
      ]
    },
    {
      "metadata": {
        "id": "UNmMOZijQbqI",
        "colab_type": "code",
        "colab": {}
      },
      "cell_type": "code",
      "source": [
        "import matplotlib.pyplot as plt\n",
        "\n",
        "# with sess.as_default():\n",
        "weights_comp = []\n",
        "for d in [10, 20, 50, 100, 200, 784]:\n",
        "  weights_d = []\n",
        "  for i in range(5):\n",
        "    w = weights[i]\n",
        "    s,u,v = tf.svd(w)\n",
        "    w_t = tf.matmul(u[:,:d], tf.matmul(tf.linalg.diag(s[:d]), v[:,:d], adjoint_b=True))\n",
        "#     u1, s1, v_adj = np.linalg.svd(w, full_matrices=False)\n",
        "#     w_t = np.dot(u1, np.dot(np.diag(s1), v_adj))\n",
        "    weights_d.append(w_t)\n",
        "  #     eps=1e-7\n",
        "  #     si = tf.where(tf.less(s, eps), s, tf.sqrt(s))\n",
        "  #     w_t = tf.matmul(tf.matmul(u[:,0:d], tf.diag(s[0:d])), v[:,0:d], transpose_b=True)\n",
        "  weights_d.append(weights[-1])\n",
        "  weights_comp.append(weights_d)\n",
        "# ww = weights_d[0].eval()\n",
        "#   print(ww.shape)"
      ],
      "execution_count": 0,
      "outputs": []
    },
    {
      "metadata": {
        "id": "YhdiwLcHLOKC",
        "colab_type": "code",
        "outputId": "bf7815f6-b57c-4eaa-ffaa-71e1a2daa438",
        "colab": {
          "base_uri": "https://localhost:8080/",
          "height": 587
        }
      },
      "cell_type": "code",
      "source": [
        "d = [10, 20, 50, 100, 200, 784]\n",
        "acc_d = []\n",
        "for i in range(6):\n",
        "  output_layer = layer_output(weights_comp[i], biases, X)\n",
        "  correct_pred = tf.equal(tf.argmax(output_layer, 1), tf.argmax(Y, 1))\n",
        "  accuracy = tf.reduce_mean(tf.cast(correct_pred, tf.float32))\n",
        "  test_accuracy = sess.run(accuracy, feed_dict={X: mnist_data.test.images, Y: mnist_data.test.labels})\n",
        "  print(\"\\nAccuracy on test set:\", test_accuracy)\n",
        "  acc_d.append(test_accuracy)\n",
        "plt.plot(d, acc_d, 'ro--', linewidth=2, markersize=12)\n",
        "plt.xlabel('d value')\n",
        "plt.ylabel('Test Accuracy')\n",
        "plt.title('Test accuracy for d')\n",
        "plt.show()"
      ],
      "execution_count": 0,
      "outputs": [
        {
          "output_type": "stream",
          "text": [
            "\n",
            "Accuracy on test set: 0.1246\n",
            "\n",
            "Accuracy on test set: 0.2058\n",
            "\n",
            "Accuracy on test set: 0.3421\n",
            "\n",
            "Accuracy on test set: 0.5666\n",
            "\n",
            "Accuracy on test set: 0.588\n",
            "\n",
            "Accuracy on test set: 0.9805\n"
          ],
          "name": "stdout"
        },
        {
          "output_type": "display_data",
          "data": {
            "image/png": "[encoded data removed]",
            "text/plain": [
              "<Figure size 576x396 with 1 Axes>"
            ]
          },
          "metadata": {
            "tags": []
          }
        }
      ]
    },
    {
      "metadata": {
        "id": "uDJ9kFfiLR2z",
        "colab_type": "code",
        "colab": {}
      },
      "cell_type": "code",
      "source": [
        ""
      ],
      "execution_count": 0,
      "outputs": []
    },
    {
      "metadata": {
        "id": "fY1CXeWmeTZG",
        "colab_type": "code",
        "outputId": "cfa4cee5-70fa-4d6a-d461-a1ddc9489b03",
        "colab": {
          "base_uri": "https://localhost:8080/",
          "height": 54
        }
      },
      "cell_type": "code",
      "source": [
        "X = tf.placeholder(\"float\", [None, n_input])\n",
        "Y = tf.placeholder(\"float\", [None, n_output])\n",
        "training = tf.placeholder_with_default(False, shape=(), name='training')\n",
        "keep_prob = tf.placeholder(tf.float32) \n",
        "lr = 1e-4\n",
        "\n",
        "weights = [ \n",
        "            tf.Variable(tf.random_normal([n_input, n_hidden1], stddev=np.sqrt(2/n_input))),\n",
        "            tf.Variable(tf.random_normal([n_hidden1, n_hidden2], stddev=np.sqrt(2/n_hidden1))),\n",
        "            tf.Variable(tf.random_normal([n_hidden2, n_hidden3], stddev=np.sqrt(2/n_hidden2))),\n",
        "            tf.Variable(tf.random_normal([n_hidden3, n_hidden4], stddev=np.sqrt(2/n_hidden3))),\n",
        "            tf.Variable(tf.random_normal([n_hidden4, n_hidden5], stddev=np.sqrt(2/n_hidden4))),\n",
        "            tf.Variable(tf.random_normal([n_hidden5, n_output], stddev=np.sqrt(2/n_hidden5))),\n",
        "          ]\n",
        "biases = [\n",
        "            tf.Variable(tf.constant(0.0, shape=[n_hidden1])),\n",
        "            tf.Variable(tf.constant(0.0, shape=[n_hidden2])),\n",
        "            tf.Variable(tf.constant(0.0, shape=[n_hidden3])),\n",
        "            tf.Variable(tf.constant(0.0, shape=[n_hidden4])),\n",
        "            tf.Variable(tf.constant(0.0, shape=[n_hidden5])),\n",
        "            tf.Variable(tf.constant(0.0, shape=[n_output]))\n",
        "         ]\n",
        "\n",
        "def svd_out(weights, d):\n",
        "  weights_d = []\n",
        "  for i in range(len(weights)-1):\n",
        "    w = weights[i]\n",
        "    s,u,v = tf.svd(w)\n",
        "#       w_t = tf.matmul(u[:,:d], tf.matmul(tf.linalg.diag(s[:d]), v[:,:d], adjoint_b=True))\n",
        "    u = u[:,:d]\n",
        "    v_bar = tf.matmul(tf.linalg.diag(s[:d]), v[:,:d], adjoint_b=True)\n",
        "    weights_d.append([u, v_bar])\n",
        "  weights_d.append([weights[-1]])\n",
        "  return weights_d\n",
        "\n",
        "def layer_output_comp(weights, biases, X):\n",
        "  layer = []\n",
        "  act_out = X\n",
        "  for i in range(0,5):\n",
        "    u = weights[i][0]\n",
        "    v_bar = weights[i][1]\n",
        "    layer.append(tf.nn.relu(tf.add(tf.matmul(act_out, tf.matmul(u, v_bar)), biases[i])))\n",
        "    act_out = layer[i]\n",
        "  output_layer = tf.matmul(layer[-1], weights[5][0]) + biases[5]\n",
        "  return output_layer\n",
        "\n",
        "weights_comp_d = svd_out(weights, 20)\n",
        "print(weights_comp_d)\n",
        "output_layer = layer_output_comp(weights_comp_d, biases, X)\n",
        "cross_entropy = tf.reduce_mean(tf.nn.softmax_cross_entropy_with_logits(labels=Y, logits=output_layer))\n",
        "train_step = tf.train.AdamOptimizer(lr).minimize(cross_entropy)\n",
        "\n",
        "correct_pred = tf.equal(tf.argmax(output_layer, 1), tf.argmax(Y, 1))\n",
        "accuracy = tf.reduce_mean(tf.cast(correct_pred, tf.float32))"
      ],
      "execution_count": 0,
      "outputs": [
        {
          "output_type": "stream",
          "text": [
            "[[<tf.Tensor 'strided_slice_255:0' shape=(784, 20) dtype=float32>, <tf.Tensor 'MatMul_278:0' shape=(20, 1024) dtype=float32>], [<tf.Tensor 'strided_slice_258:0' shape=(1024, 20) dtype=float32>, <tf.Tensor 'MatMul_279:0' shape=(20, 1024) dtype=float32>], [<tf.Tensor 'strided_slice_261:0' shape=(1024, 20) dtype=float32>, <tf.Tensor 'MatMul_280:0' shape=(20, 1024) dtype=float32>], [<tf.Tensor 'strided_slice_264:0' shape=(1024, 20) dtype=float32>, <tf.Tensor 'MatMul_281:0' shape=(20, 1024) dtype=float32>], [<tf.Tensor 'strided_slice_267:0' shape=(1024, 20) dtype=float32>, <tf.Tensor 'MatMul_282:0' shape=(20, 1024) dtype=float32>], [<tf.Variable 'Variable_65:0' shape=(1024, 10) dtype=float32_ref>]]\n"
          ],
          "name": "stdout"
        }
      ]
    },
    {
      "metadata": {
        "id": "VwamDQ_6neXK",
        "colab_type": "code",
        "colab": {}
      },
      "cell_type": "code",
      "source": [
        "init = tf.global_variables_initializer()\n",
        "sess = tf.Session()\n",
        "sess.run(init)"
      ],
      "execution_count": 0,
      "outputs": []
    },
    {
      "metadata": {
        "id": "F67xsxsUmkeX",
        "colab_type": "code",
        "outputId": "2698d043-f508-46d0-d250-0518e1062429",
        "colab": {
          "base_uri": "https://localhost:8080/",
          "height": 193
        }
      },
      "cell_type": "code",
      "source": [
        "for i in range(n_iterations):\n",
        "    batch_x, batch_y = mnist_data.train.next_batch(batch_size)\n",
        "    sess.run(train_step, feed_dict={X: batch_x, Y: batch_y, keep_prob:dropout})\n",
        "\n",
        "    # print loss and accuracy (per minibatch)\n",
        "    if i%100==0:\n",
        "        minibatch_loss, minibatch_accuracy = sess.run([cross_entropy, accuracy], feed_dict={X: batch_x, Y: batch_y, keep_prob:1.0})\n",
        "        print(\"Iteration\", str(i), \"\\t| Loss =\", str(minibatch_loss), \"\\t| Accuracy =\", str(minibatch_accuracy))"
      ],
      "execution_count": 0,
      "outputs": [
        {
          "output_type": "stream",
          "text": [
            "Iteration 0 \t| Loss = 2.3023496 \t| Accuracy = 0.1328125\n",
            "Iteration 100 \t| Loss = 1.6120977 \t| Accuracy = 0.54296875\n",
            "Iteration 200 \t| Loss = 0.96319795 \t| Accuracy = 0.7011719\n",
            "Iteration 300 \t| Loss = 0.7523422 \t| Accuracy = 0.75\n",
            "Iteration 400 \t| Loss = 0.71668947 \t| Accuracy = 0.796875\n",
            "Iteration 500 \t| Loss = 0.50378823 \t| Accuracy = 0.8613281\n",
            "Iteration 600 \t| Loss = 0.52368295 \t| Accuracy = 0.8261719\n",
            "Iteration 700 \t| Loss = 0.46109623 \t| Accuracy = 0.85546875\n",
            "Iteration 800 \t| Loss = 0.40389448 \t| Accuracy = 0.86328125\n",
            "Iteration 900 \t| Loss = 0.4722614 \t| Accuracy = 0.85546875\n"
          ],
          "name": "stdout"
        }
      ]
    },
    {
      "metadata": {
        "id": "vN1pN9i14XYU",
        "colab_type": "code",
        "outputId": "2b2ab8ad-c91e-4e2c-a772-5ca57b475035",
        "colab": {
          "base_uri": "https://localhost:8080/",
          "height": 52
        }
      },
      "cell_type": "code",
      "source": [
        "test_accuracy = sess.run(accuracy, feed_dict={X: mnist_data.test.images, Y: mnist_data.test.labels, keep_prob:1.0})\n",
        "print(\"\\nAccuracy on test set:\", test_accuracy)"
      ],
      "execution_count": 0,
      "outputs": [
        {
          "output_type": "stream",
          "text": [
            "\n",
            "Accuracy on test set: 0.8762\n"
          ],
          "name": "stdout"
        }
      ]
    },
    {
      "metadata": {
        "id": "mg3WZijZjDzI",
        "colab_type": "text"
      },
      "cell_type": "markdown",
      "source": [
        "lr : 1e-4 => Test accuracy : 96.09 | Train accuracy : 97.8"
      ]
    }
  ]
}